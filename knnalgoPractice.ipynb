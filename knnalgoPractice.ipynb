{
 "cells": [
  {
   "cell_type": "code",
   "execution_count": 13,
   "id": "04a35f38-23be-489a-bb1c-88f4696b3d5b",
   "metadata": {},
   "outputs": [],
   "source": [
    "#working Classification KNN example\n",
    "import pandas as pd\n",
    "import numpy as np\n",
    "import math\n",
    "import operator"
   ]
  },
  {
   "cell_type": "code",
   "execution_count": 14,
   "id": "a39be94d-84ee-4bd5-90a7-e41fbbd414b5",
   "metadata": {},
   "outputs": [],
   "source": [
    "col=['sepal_length','sepal_width','petal_length','petal_width','type']\n",
    "iris=pd.read_csv(\"C:/Users/Calsoft/Documents/jupyterNotebook/iris.data\",names=col)"
   ]
  },
  {
   "cell_type": "code",
   "execution_count": 15,
   "id": "ece25371-1482-46e1-9eb9-bb198a8dad4d",
   "metadata": {},
   "outputs": [
    {
     "name": "stdout",
     "output_type": "stream",
     "text": [
      "First five rows\n",
      "   sepal_length  sepal_width  petal_length  petal_width         type\n",
      "0           5.1          3.5           1.4          0.2  Iris-setosa\n",
      "1           4.9          3.0           1.4          0.2  Iris-setosa\n",
      "2           4.7          3.2           1.3          0.2  Iris-setosa\n",
      "3           4.6          3.1           1.5          0.2  Iris-setosa\n",
      "4           5.0          3.6           1.4          0.2  Iris-setosa\n",
      "*********\n",
      "columns Index(['sepal_length', 'sepal_width', 'petal_length', 'petal_width', 'type'], dtype='object')\n",
      "*********\n",
      "shape: (150, 5)\n",
      "*********\n",
      "Size: 750\n",
      "*********\n",
      "no of samples available for each type\n",
      "Iris-setosa        50\n",
      "Iris-virginica     50\n",
      "Iris-versicolor    50\n",
      "Name: type, dtype: int64\n",
      "*********\n",
      "       sepal_length  sepal_width  petal_length  petal_width\n",
      "count    150.000000   150.000000    150.000000   150.000000\n",
      "mean       5.843333     3.054000      3.758667     1.198667\n",
      "std        0.828066     0.433594      1.764420     0.763161\n",
      "min        4.300000     2.000000      1.000000     0.100000\n",
      "25%        5.100000     2.800000      1.600000     0.300000\n",
      "50%        5.800000     3.000000      4.350000     1.300000\n",
      "75%        6.400000     3.300000      5.100000     1.800000\n",
      "max        7.900000     4.400000      6.900000     2.500000\n"
     ]
    }
   ],
   "source": [
    "print(\"First five rows\")\n",
    "print(iris.head())\n",
    "print(\"*********\")\n",
    "print(\"columns\",iris.columns)\n",
    "print(\"*********\")\n",
    "print(\"shape:\",iris.shape)\n",
    "print(\"*********\")\n",
    "print(\"Size:\",iris.size)\n",
    "print(\"*********\")\n",
    "print(\"no of samples available for each type\")\n",
    "print(iris['type'].value_counts())\n",
    "print(\"*********\")\n",
    "print(iris.describe())"
   ]
  },
  {
   "cell_type": "code",
   "execution_count": 16,
   "id": "a47763fb-c594-43a7-b8a4-203af51d0076",
   "metadata": {},
   "outputs": [],
   "source": [
    "def euclidianDistance(data1, data2, length):\n",
    "    distance = 0\n",
    "    for x in range(length):\n",
    "        distance += np.square(data1[x] - data2[x])\n",
    "       \n",
    "    return np.sqrt(distance)\n",
    "def knn(trainingSet, testInstance, k):\n",
    " \n",
    "    distances = {}\n",
    "    sort = {}\n",
    " \n",
    "    length = testInstance.shape[1]\n",
    "    \n",
    "    for x in range(len(trainingSet)):\n",
    "        \n",
    "        dist = euclidianDistance(testInstance, trainingSet.iloc[x], length)\n",
    "\n",
    "        distances[x] = dist[0]\n",
    "      \n",
    "    sorted_d = sorted(distances.items(), key=operator.itemgetter(1))\n",
    "   \n",
    " \n",
    "    neighbors = []\n",
    "\n",
    "   \n",
    "    for x in range(k):\n",
    "        neighbors.append(sorted_d[x][0])\n",
    "    classVotes = {}\n",
    "    \n",
    "  \n",
    "    for x in range(len(neighbors)):\n",
    "        response = trainingSet.iloc[neighbors[x]][-1]\n",
    " \n",
    "        if response in classVotes:\n",
    "            classVotes[response] += 1\n",
    "        else:\n",
    "            classVotes[response] = 1\n",
    "\n",
    "\n",
    "    sortedVotes = sorted(classVotes.items(), key=operator.itemgetter(1), reverse=True)\n",
    "    return(sortedVotes[0][0], neighbors)"
   ]
  },
  {
   "cell_type": "code",
   "execution_count": 17,
   "id": "76fec2c2-61cd-4c38-924f-f3d8e53c4884",
   "metadata": {},
   "outputs": [],
   "source": [
    "#test data set\n",
    "testSet = [[7.2, 3.6, 5.1, 2.5]]\n",
    "test = pd.DataFrame(testSet)"
   ]
  },
  {
   "cell_type": "code",
   "execution_count": 18,
   "id": "c940245f-8294-4cd8-8fc8-9d3442485caf",
   "metadata": {},
   "outputs": [],
   "source": [
    "result,neigh = knn(iris, test, 1)"
   ]
  },
  {
   "cell_type": "code",
   "execution_count": 19,
   "id": "3e8d1692-366a-4ddf-91de-2b0bab3c7671",
   "metadata": {},
   "outputs": [
    {
     "name": "stdout",
     "output_type": "stream",
     "text": [
      "Iris-virginica\n"
     ]
    }
   ],
   "source": [
    "#classified data set\n",
    "print(result)"
   ]
  },
  {
   "cell_type": "code",
   "execution_count": 20,
   "id": "c1b2c634-6f0b-4c17-a5ea-619ba5b63fdd",
   "metadata": {},
   "outputs": [
    {
     "name": "stdout",
     "output_type": "stream",
     "text": [
      "And the flower is: Iris-versicolor\n",
      "the neighbors are: [57, 8, 42, 93]\n"
     ]
    }
   ],
   "source": [
    "testSet = [[1.4, 3.6, 3.4, 1.2]]\n",
    "test = pd.DataFrame(testSet)\n",
    "result,neigh = knn(iris, test, 4)#here we gave k=4\n",
    "print(\"And the flower is:\",result)\n",
    "print(\"the neighbors are:\",neigh)"
   ]
  },
  {
   "cell_type": "code",
   "execution_count": null,
   "id": "8ad831df-dafe-416c-8f1b-0e9ecc224d03",
   "metadata": {},
   "outputs": [],
   "source": []
  }
 ],
 "metadata": {
  "kernelspec": {
   "display_name": "Python 3",
   "language": "python",
   "name": "python3"
  },
  "language_info": {
   "codemirror_mode": {
    "name": "ipython",
    "version": 3
   },
   "file_extension": ".py",
   "mimetype": "text/x-python",
   "name": "python",
   "nbconvert_exporter": "python",
   "pygments_lexer": "ipython3",
   "version": "3.8.8"
  }
 },
 "nbformat": 4,
 "nbformat_minor": 5
}
